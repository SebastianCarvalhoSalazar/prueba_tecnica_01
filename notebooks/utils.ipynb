{
 "cells": [
  {
   "cell_type": "markdown",
   "id": "a068adba",
   "metadata": {},
   "source": [
    "#  <center>Utils</center>\n",
    "Este Script tiene como función contener todos los metodos que se reutilizaran continuamente sobre los datos a lo largo del proceso.\n"
   ]
  },
  {
   "cell_type": "code",
   "execution_count": 2,
   "id": "081b8679",
   "metadata": {},
   "outputs": [],
   "source": [
    "import pandas as pd\n",
    "import joblib\n",
    "from sklearn.model_selection import train_test_split\n",
    "\n",
    "class Utils:\n",
    "\n",
    "    def load_from_csv(self, path):\n",
    "        return pd.read_csv(path)\n",
    "\n",
    "    def features_target(self, dataset, drop_cols, y):\n",
    "        X = dataset.drop(drop_cols, axis=1)\n",
    "        y = dataset[y]\n",
    "        return X,y\n",
    "    \n",
    "    def dataset_split(self, X, y):\n",
    "        x_train, x_test, y_train, y_test = train_test_split(X, y, test_size=0.35, random_state=42)\n",
    "        return x_train, x_test, y_train, y_test\n",
    "\n",
    "    def model_export(self, clf, score, best_model):\n",
    "        print(score)\n",
    "        joblib.dump(clf, '../models/best_model_{0:.4f}.pkl'.format(score))"
   ]
  }
 ],
 "metadata": {
  "kernelspec": {
   "display_name": "Python 3 (ipykernel)",
   "language": "python",
   "name": "python3"
  },
  "language_info": {
   "codemirror_mode": {
    "name": "ipython",
    "version": 3
   },
   "file_extension": ".py",
   "mimetype": "text/x-python",
   "name": "python",
   "nbconvert_exporter": "python",
   "pygments_lexer": "ipython3",
   "version": "3.10.2"
  }
 },
 "nbformat": 4,
 "nbformat_minor": 5
}
