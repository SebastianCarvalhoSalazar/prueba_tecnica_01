{
 "cells": [
  {
   "cell_type": "markdown",
   "id": "ffa6ed48",
   "metadata": {},
   "source": [
    "#  <center>Server</center>\n",
    "\n",
    "Este script contiene la configuración del servidor."
   ]
  },
  {
   "cell_type": "code",
   "execution_count": 2,
   "id": "0a796e91",
   "metadata": {},
   "outputs": [
    {
     "name": "stdout",
     "output_type": "stream",
     "text": [
      "Collecting flask\n",
      "  Using cached Flask-2.0.2-py3-none-any.whl (95 kB)\n",
      "Collecting itsdangerous>=2.0\n",
      "  Using cached itsdangerous-2.0.1-py3-none-any.whl (18 kB)\n",
      "Requirement already satisfied: click>=7.1.2 in c:\\users\\sebastian\\anaconda3\\envs\\prueba_tecnica\\lib\\site-packages (from flask) (8.0.3)\n",
      "Collecting Werkzeug>=2.0\n",
      "  Using cached Werkzeug-2.0.2-py3-none-any.whl (288 kB)\n",
      "Requirement already satisfied: Jinja2>=3.0 in c:\\users\\sebastian\\anaconda3\\envs\\prueba_tecnica\\lib\\site-packages (from flask) (3.0.3)\n",
      "Requirement already satisfied: colorama in c:\\users\\sebastian\\anaconda3\\envs\\prueba_tecnica\\lib\\site-packages (from click>=7.1.2->flask) (0.4.4)\n",
      "Requirement already satisfied: MarkupSafe>=2.0 in c:\\users\\sebastian\\anaconda3\\envs\\prueba_tecnica\\lib\\site-packages (from Jinja2>=3.0->flask) (2.0.1)\n",
      "Installing collected packages: Werkzeug, itsdangerous, flask\n",
      "Successfully installed Werkzeug-2.0.2 flask-2.0.2 itsdangerous-2.0.1\n"
     ]
    }
   ],
   "source": [
    "# !pip install flask"
   ]
  },
  {
   "cell_type": "code",
   "execution_count": 4,
   "id": "d9784895",
   "metadata": {},
   "outputs": [
    {
     "name": "stdout",
     "output_type": "stream",
     "text": [
      " * Serving Flask app '__main__' (lazy loading)\n",
      " * Environment: production\n",
      "\u001b[31m   WARNING: This is a development server. Do not use it in a production deployment.\u001b[0m\n",
      "\u001b[2m   Use a production WSGI server instead.\u001b[0m\n",
      " * Debug mode: off\n"
     ]
    },
    {
     "name": "stderr",
     "output_type": "stream",
     "text": [
      " * Running on http://127.0.0.1:3702/ (Press CTRL+C to quit)\n",
      "127.0.0.1 - - [27/Jan/2022 15:06:08] \"GET / HTTP/1.1\" 200 -\n"
     ]
    },
    {
     "name": "stdout",
     "output_type": "stream",
     "text": [
      "[1]\n"
     ]
    }
   ],
   "source": [
    "import joblib\n",
    "import numpy as np\n",
    "import warnings\n",
    "warnings.filterwarnings(\"ignore\")\n",
    "from flask import Flask\n",
    "from flask import jsonify\n",
    "\n",
    "result = ['Benign','Malingnant']\n",
    "\n",
    "app = Flask(__name__)\n",
    "model = joblib.load('../models/best_model_0.9438.pkl')\n",
    "\n",
    "@app.route('/', methods=['GET'])\n",
    "def predict():\n",
    "    X_test = np.array([0.30010, 0.14710, 25.38, 184.60, 1227.0, 0.71190, 0.26540]) # 1\n",
    "    prediction = model.predict(X_test.reshape(1,-1))\n",
    "    print(prediction)\n",
    "    return jsonify({'Prediccion' : result[prediction[0]]})\n",
    "\n",
    "app.run(port=3702)"
   ]
  }
 ],
 "metadata": {
  "kernelspec": {
   "display_name": "Python 3 (ipykernel)",
   "language": "python",
   "name": "python3"
  },
  "language_info": {
   "codemirror_mode": {
    "name": "ipython",
    "version": 3
   },
   "file_extension": ".py",
   "mimetype": "text/x-python",
   "name": "python",
   "nbconvert_exporter": "python",
   "pygments_lexer": "ipython3",
   "version": "3.10.2"
  }
 },
 "nbformat": 4,
 "nbformat_minor": 5
}
