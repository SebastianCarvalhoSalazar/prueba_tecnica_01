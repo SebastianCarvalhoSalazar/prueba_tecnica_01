{
 "cells": [
  {
   "cell_type": "markdown",
   "id": "f101a50e",
   "metadata": {},
   "source": [
    "#  <center> Prueba Tecnica Conhintec</center>\n",
    "## <center> Main: Breast Cancer Solution</center> \n",
    "### <center>Autor:<center>\n",
    "#### <center>Sebastian Carvalho Salazar<center>\n"
   ]
  },
  {
   "cell_type": "code",
   "execution_count": 32,
   "id": "98e28d57",
   "metadata": {},
   "outputs": [
    {
     "name": "stdout",
     "output_type": "stream",
     "text": [
      "Modelando...\n",
      "====================================================================================================\n",
      "(569, 7)\n",
      "(569, 1)\n",
      "0.943828598043782\n",
      "RandomForestClassifier(max_depth=3, max_leaf_nodes=5, n_estimators=200,\n",
      "                       n_jobs=-1)\n",
      "====================================================================================================\n",
      "              precision    recall  f1-score   support\n",
      "\n",
      "           0       0.96      0.96      0.96       125\n",
      "           1       0.93      0.93      0.93        75\n",
      "\n",
      "    accuracy                           0.95       200\n",
      "   macro avg       0.95      0.95      0.95       200\n",
      "weighted avg       0.95      0.95      0.95       200\n",
      "\n",
      "====================================================================================================\n"
     ]
    },
    {
     "data": {
      "image/png": "[encoded data removed]",
      "text/plain": [
       "<Figure size 360x360 with 1 Axes>"
      ]
     },
     "metadata": {
      "needs_background": "light"
     },
     "output_type": "display_data"
    },
    {
     "name": "stdout",
     "output_type": "stream",
     "text": [
      "====================================================================================================\n"
     ]
    },
    {
     "data": {
      "image/png": "[encoded data removed]",
      "text/plain": [
       "<Figure size 864x576 with 1 Axes>"
      ]
     },
     "metadata": {
      "needs_background": "light"
     },
     "output_type": "display_data"
    },
    {
     "name": "stdout",
     "output_type": "stream",
     "text": [
      "feature_importance_name: Index(['concavity_worst'], dtype='object')\n",
      "====================================================================================================\n"
     ]
    }
   ],
   "source": [
    "%run utils.ipynb\n",
    "%run models.ipynb\n",
    "\n",
    "utils = Utils()\n",
    "models = Models()\n",
    "\n",
    "data = utils.load_from_csv('../in/df_filtered_pca_reduced.csv')\n",
    "print(\"Modelando...\")\n",
    "print(\"=\"*100)\n",
    "\n",
    "X, y = utils.features_target(data, ['diagnosis','texture_mean', 'smoothness_mean', 'compactness_mean', 'symmetry_mean',\n",
    "       'radius_se', 'perimeter_se', 'area_se', 'compactness_se',\n",
    "       'concavity_se', 'concave points_se', 'symmetry_se',\n",
    "       'fractal_dimension_se', 'texture_worst', 'smoothness_worst',\n",
    "       'compactness_worst', 'symmetry_worst', 'fractal_dimension_worst',\n",
    "       'pca_radius_perimeter_area'] , ['diagnosis'])\n",
    "\n",
    "print(X.shape)\n",
    "print(y.shape)\n",
    "\n",
    "grid_reg = models.grid_training(X, y)\n",
    "\n",
    "models.model_results(X, y, grid_reg)"
   ]
  },
  {
   "cell_type": "markdown",
   "id": "534942d3",
   "metadata": {},
   "source": [
    "#  <center>Análisis de Resultados</center>"
   ]
  },
  {
   "cell_type": "markdown",
   "id": "19c98b6e",
   "metadata": {},
   "source": [
    "### ¿Por qué Arboles de Decisión? \n",
    "\n",
    "Los árboles de desición tienen dos ventajas respecto a los demás algoritmos. El modelo resultante puede ser comprendido y visualizado fácilmente y los algoritmos son independientes de la escala de los datos.\n",
    "\n",
    "Por otro lado, la principal falencia es que los árboles de decisión suelen tender a sobreajustar los datos, incluso cuando se aplica el  pre-podado. Para evitarlo, es posible utilizar métodos de conjunto (ensemble methods). Los método de ensamble son aquellos en los cuales se unen diferentes tipos de algorítmos o el mísmo algorítmo multiples veces con el fin de crear un predictor más robusto.\n",
    "\n",
    "El método de bosques aleatorios  es un ensamble de árboles de desición en el cual el entrenamiento se realiza mediante bootstraping y la desición final se toma con la moda (para clasificación) o la media (para regresión) de las predicciones de cada árbol.\n",
    "\n",
    "Puede tenerse la importancia relativa de las carácterísticas, lo cual nos permite hacer selección de las mísmas para hacer reducción dimensional. Finalmente, una de sus desventajas es queal ser un método de ensamble puede ser muy costoso computacionalmente, tanto para entrenamiento como para predicción."
   ]
  },
  {
   "cell_type": "markdown",
   "id": "0edb887c",
   "metadata": {},
   "source": [
    "### ¿Cuál y porque de la métrica de rendimiento a utilizar?\n",
    "\n",
    "###### Si la prueba es negativa (1), se supondrá que el paciente está sano, mientras que si la prueba es positiva (0)\n",
    "\n",
    "El problema aquí es que la accuracy es una medida inadecuada para cuantificar el rendimiento predictivo en un escenario no balanceado, el cual es el escenario mas comun, Por lo que necesitamos métricas alternativas.\n",
    "\n",
    "La precisión mide cuántas de las muestras predichas como positivas son realmente positivas. Se utiliza como una métrica de rendimiento cuando el objetivo es limitar el número de falsos positivos.\n",
    "\n",
    "$$\\text{Precisión} = \\frac{TP}{TP + FP}$$\n",
    "\n",
    "La **exhaustividad**, por otro lado, mide cuántas de las muestras positivas son capturadas por las predicciones positivas. Se utiliza como métrica de rendimiento cuando necesitamos identificar todas las muestras positivas; es decir, cuando es importante evitar falsos negativos.\n",
    "\n",
    "$$\\text{Exhaustividad} = \\frac{TP}{TP + FN}$$\n",
    "\n",
    "\n",
    "El **puntaje f** es la media armónica entre precisión y exhaustividad.\n",
    "\n",
    "$$f = 2  \\frac{\\text{Precisión}*\\text{Exhaustividad}}{\\text{Precisión}+\\text{Exhaustividad}}$$\n",
    "\n",
    "\n",
    "El **accuracy** mide que tan bien realiza la predicción correcta un clasificador. Este valor corresponde a la razón entre el número de predicciones correctas respecto al número total de predicciones:\n",
    "\n",
    "\\begin{equation}\n",
    "\\text{Accuracy} = \\frac{TP+TN}{TP+FP+TN+FN}\n",
    "\\end{equation}"
   ]
  },
  {
   "cell_type": "code",
   "execution_count": null,
   "id": "3b8b9e37",
   "metadata": {},
   "outputs": [],
   "source": []
  }
 ],
 "metadata": {
  "kernelspec": {
   "display_name": "Python 3 (ipykernel)",
   "language": "python",
   "name": "python3"
  },
  "language_info": {
   "codemirror_mode": {
    "name": "ipython",
    "version": 3
   },
   "file_extension": ".py",
   "mimetype": "text/x-python",
   "name": "python",
   "nbconvert_exporter": "python",
   "pygments_lexer": "ipython3",
   "version": "3.10.2"
  }
 },
 "nbformat": 4,
 "nbformat_minor": 5
}
