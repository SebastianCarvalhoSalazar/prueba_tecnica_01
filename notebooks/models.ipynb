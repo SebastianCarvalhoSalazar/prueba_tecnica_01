{
 "cells": [
  {
   "cell_type": "markdown",
   "id": "c4b57f79",
   "metadata": {},
   "source": [
    "#  <center>Models</center>"
   ]
  },
  {
   "cell_type": "code",
   "execution_count": 17,
   "id": "2b5eea48",
   "metadata": {},
   "outputs": [
    {
     "name": "stdout",
     "output_type": "stream",
     "text": [
      "Collecting graphviz\n",
      "  Downloading graphviz-0.19.1-py3-none-any.whl (46 kB)\n",
      "Installing collected packages: graphviz\n",
      "Successfully installed graphviz-0.19.1\n"
     ]
    }
   ],
   "source": [
    "# !pip install graphviz"
   ]
  },
  {
   "cell_type": "code",
   "execution_count": 14,
   "id": "08d92a59",
   "metadata": {},
   "outputs": [],
   "source": [
    "import pandas as pd\n",
    "import numpy as np\n",
    "import matplotlib.pyplot as plt\n",
    "import seaborn as sns\n",
    "\n",
    "from sklearn.tree import DecisionTreeClassifier\n",
    "from sklearn.ensemble import RandomForestClassifier\n",
    "\n",
    "from sklearn.model_selection import GridSearchCV\n",
    "\n",
    "from sklearn.metrics import classification_report\n",
    "from sklearn.metrics import confusion_matrix\n",
    "\n",
    "from sklearn.tree import export_graphviz\n",
    "import graphviz\n",
    "\n",
    "%run utils.ipynb\n",
    "\n",
    "class Models:\n",
    "\n",
    "    def __init__(self):\n",
    "\n",
    "        self.reg = {\n",
    "            'DecisionTree': DecisionTreeClassifier(),\n",
    "            'RandomForest': RandomForestClassifier(n_estimators=200 , n_jobs=-1),\n",
    "        }\n",
    "\n",
    "        self.params = {\n",
    "            'DecisionTree' : {\n",
    "                'max_depth': np.arange(2,6), \n",
    "                'max_leaf_nodes': np.arange(2,6)\n",
    "            }, 'RandomForest' : {\n",
    "                'min_samples_split': np.arange(2,6),\n",
    "                'max_depth': np.arange(2,6)\n",
    "            }\n",
    "        }\n",
    "\n",
    "    def grid_training(self, X, y):\n",
    "        best_score = 999\n",
    "        best_model = None\n",
    "        \n",
    "        for name, reg in self.reg.items():\n",
    "            grid_reg = GridSearchCV(reg, self.params[name], cv=5).fit(X, y.values.ravel())\n",
    "            score = np.abs(grid_reg.best_score_)\n",
    "\n",
    "            if score < best_score:\n",
    "                best_score = score\n",
    "                best_model = grid_reg.best_estimator_\n",
    "\n",
    "        utils = Utils()\n",
    "        utils.model_export(best_model, best_score, best_model)\n",
    "        \n",
    "        return grid_reg\n",
    "        \n",
    "    def model_results(self, X, y, grid_reg):\n",
    "        \n",
    "        x_train, x_test, y_train, y_test = utils.dataset_split(X, y)\n",
    "        \n",
    "        model = grid_reg.best_estimator_\n",
    "        print(model)\n",
    "        model.fit(x_train, y_train.values.ravel())\n",
    "        y_fit = model.predict(x_test)\n",
    "        \n",
    "        print(\"=\"*100)\n",
    "        \n",
    "        print(classification_report(y_test,y_fit))\n",
    "        cm = confusion_matrix(y_test,y_fit)\n",
    "        \n",
    "        print(\"=\"*100)\n",
    "\n",
    "        plt.figure(figsize=(5,5))\n",
    "        sns.heatmap(cm.T ,square=True , annot=True, cbar=False, xticklabels=True)\n",
    "        plt.xlabel('True label')\n",
    "        plt.ylabel('Predicted label')\n",
    "        plt.show()\n",
    "        \n",
    "        print(\"=\"*100)\n",
    "        \n",
    "        n_features = len(X.columns)\n",
    "        plt.figure(figsize=(12,8))\n",
    "        plt.barh(range(n_features), model.feature_importances_, align='center')\n",
    "        plt.yticks(np.arange(n_features), X.columns.to_list())\n",
    "        plt.xlabel(\"Feature importance\")\n",
    "        plt.ylabel(\"Feature\")\n",
    "        plt.grid()\n",
    "        plt.show()\n",
    "        \n",
    "#         print(\"=\"*100)\n",
    "        \n",
    "#         export_graphviz(model, out_file=\"breast_cancer_tree.dot\", feature_names=X.columns, class_names=['Benigno','Maligno'], rounded=True, filled=True)\n",
    "        \n",
    "#         with open(\"breast_cancer_tree.dot\") as f:\n",
    "#             dot_graph = f.read()\n",
    "        \n",
    "#         graphviz.Source(dot_graph)"
   ]
  }
 ],
 "metadata": {
  "kernelspec": {
   "display_name": "Python 3 (ipykernel)",
   "language": "python",
   "name": "python3"
  },
  "language_info": {
   "codemirror_mode": {
    "name": "ipython",
    "version": 3
   },
   "file_extension": ".py",
   "mimetype": "text/x-python",
   "name": "python",
   "nbconvert_exporter": "python",
   "pygments_lexer": "ipython3",
   "version": "3.10.2"
  }
 },
 "nbformat": 4,
 "nbformat_minor": 5
}
